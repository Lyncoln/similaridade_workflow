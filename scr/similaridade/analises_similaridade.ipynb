{
 "cells": [
  {
   "cell_type": "code",
   "execution_count": 1,
   "metadata": {},
   "outputs": [],
   "source": [
    "import pandas as pd\n",
    "import matplotlib.pyplot as plt\n",
    "import ast\n",
    "\n",
    "# pd.set_option('display.max_columns', None)  # Mostra todas as colunas\n",
    "# pd.set_option('display.max_rows', None)     # Mostra todas as linhas\n",
    "# pd.set_option('display.width', 1000)        # Aumenta a largura da exibição\n",
    "# pd.set_option('display.max_colwidth', 100)  # Aumenta a largura máxima de cada coluna"
   ]
  },
  {
   "cell_type": "code",
   "execution_count": 2,
   "metadata": {},
   "outputs": [
    {
     "name": "stdout",
     "output_type": "stream",
     "text": [
      "1014\n",
      "187\n"
     ]
    }
   ],
   "source": [
    "# df_bert_descricao = pd.read_csv(\"infos_bert/results_bert_round1.csv\", encoding='utf-8')\n",
    "# Carregar o dataset\n",
    "df_bert = pd.read_csv(\"infos_bert/results_bert_round1.csv\", encoding='utf-8')\n",
    "\n",
    "# Aplicar ast.literal_eval nas colunas relevantes\n",
    "cols_to_eval = [f'top{num}_descricao' for num in range(3, 11)] + [f'top{num}_json' for num in range(3, 11)] + ['Tags']\n",
    "df_bert[cols_to_eval] = df_bert[cols_to_eval].applymap(ast.literal_eval)\n",
    "\n",
    "# Imprimir o tamanho do dataframe antes de filtrar\n",
    "print(len(df_bert))\n",
    "\n",
    "# Filtrar o dataframe para remover linhas com 'Tags' vazias\n",
    "df_bert = df_bert[df_bert['Tags'].apply(bool)]\n",
    "\n",
    "# Imprimir o tamanho do dataframe após filtrar\n",
    "print(len(df_bert))"
   ]
  },
  {
   "cell_type": "code",
   "execution_count": 3,
   "metadata": {},
   "outputs": [
    {
     "name": "stdout",
     "output_type": "stream",
     "text": [
      "1014\n",
      "187\n"
     ]
    }
   ],
   "source": [
    "# Carregar o dataset\n",
    "df_scibert = pd.read_csv(\"infos_scibert/results_scibert_round1.csv\", encoding='utf-8')\n",
    "\n",
    "# Aplicar ast.literal_eval nas colunas relevantes\n",
    "cols_to_eval = [f'top{num}_descricao' for num in range(3, 11)] + [f'top{num}_json' for num in range(3, 11)] + ['Tags']\n",
    "df_scibert[cols_to_eval] = df_scibert[cols_to_eval].applymap(ast.literal_eval)\n",
    "\n",
    "# Imprimir o tamanho do dataframe antes de filtrar\n",
    "print(len(df_scibert))\n",
    "\n",
    "# Filtrar o dataframe para remover linhas com 'Tags' vazias\n",
    "df_scibert = df_scibert[df_scibert['Tags'].apply(bool)]\n",
    "\n",
    "# Imprimir o tamanho do dataframe após filtrar\n",
    "print(len(df_scibert))"
   ]
  },
  {
   "cell_type": "code",
   "execution_count": 4,
   "metadata": {},
   "outputs": [],
   "source": [
    "#Pegar todas as colunas do top x do topico bert\n",
    "\n",
    "import pandas as pd\n",
    "import glob\n",
    "\n",
    "# Pasta onde estão os arquivos CSV\n",
    "folder_path = 'topicos/bert/'\n",
    "\n",
    "# Obter a lista de arquivos CSV na pasta\n",
    "csv_files = glob.glob(f'{folder_path}results_topicos_top*bert.csv')\n",
    "\n",
    "# Lista para armazenar DataFrames\n",
    "dfs = []\n",
    "\n",
    "# Carregar cada arquivo CSV e adicionar à lista de DataFrames\n",
    "for file in csv_files:\n",
    "    df = pd.read_csv(file, index_col=0)\n",
    "    dfs.append(df)\n",
    "\n",
    "# Fazer o merge de todos os DataFrames usando o índice como referência\n",
    "df_bert_topicos = dfs[0]\n",
    "for df in dfs[1:]:\n",
    "    for column in df.columns:\n",
    "        if column not in df_bert_topicos.columns:\n",
    "            df_bert_topicos = df_bert_topicos.join(df[column], how='outer')\n",
    "\n",
    "# Exibir o DataFrame resultante\n",
    "\n",
    "for column in df_bert_topicos.columns:\n",
    "    def safe_literal_eval(val):\n",
    "        try:\n",
    "            return ast.literal_eval(val)\n",
    "        except (ValueError, SyntaxError):\n",
    "            return val\n",
    "\n",
    "    df_bert_topicos[column] = df_bert_topicos[column].apply(lambda x: safe_literal_eval(x) if isinstance(x, str) else x)\n",
    "\n",
    "# Exibir o DataFrame resultante\n",
    "df_bert_topicos = df_bert_topicos[df_bert_topicos['Tags'].apply(lambda x: x != [])]"
   ]
  },
  {
   "cell_type": "code",
   "execution_count": 5,
   "metadata": {},
   "outputs": [],
   "source": [
    "#Pegar todas as colunas do top x do topico scibert\n",
    "\n",
    "import pandas as pd\n",
    "import glob\n",
    "\n",
    "# Pasta onde estão os arquivos CSV\n",
    "folder_path = 'topicos/scibert/'\n",
    "\n",
    "# Obter a lista de arquivos CSV na pasta\n",
    "csv_files = glob.glob(f'{folder_path}results_topicos_top*scibert.csv')\n",
    "\n",
    "# Lista para armazenar DataFrames\n",
    "dfs = []\n",
    "\n",
    "# Carregar cada arquivo CSV e adicionar à lista de DataFrames\n",
    "for file in csv_files:\n",
    "    df = pd.read_csv(file, index_col=0)\n",
    "    dfs.append(df)\n",
    "\n",
    "# Fazer o merge de todos os DataFrames usando o índice como referência\n",
    "df_scibert_topicos = dfs[0]\n",
    "for df in dfs[1:]:\n",
    "    for column in df.columns:\n",
    "        if column not in df_scibert_topicos.columns:\n",
    "            df_scibert_topicos = df_scibert_topicos.join(df[column], how='outer')\n",
    "\n",
    "# Exibir o DataFrame resultante\n",
    "\n",
    "for column in df_scibert_topicos.columns:\n",
    "    def safe_literal_eval(val):\n",
    "        try:\n",
    "            return ast.literal_eval(val)\n",
    "        except (ValueError, SyntaxError):\n",
    "            return val\n",
    "\n",
    "    df_scibert_topicos[column] = df_scibert_topicos[column].apply(lambda x: safe_literal_eval(x) if isinstance(x, str) else x)\n",
    "\n",
    "# Exibir o DataFrame resultante\n",
    "df_scibert_topicos = df_scibert_topicos[df_scibert_topicos['Tags'].apply(lambda x: x != [])]"
   ]
  },
  {
   "cell_type": "code",
   "execution_count": 6,
   "metadata": {},
   "outputs": [
    {
     "name": "stdout",
     "output_type": "stream",
     "text": [
      "                 Tag                                       Workflows\n",
      "0            variant                                   [0, 116, 183]\n",
      "1               snps                                             [0]\n",
      "2              human                                         [0, 74]\n",
      "3             RNAseq  [1, 17, 19, 20, 41, 54, 56, 82, 117, 133, 164]\n",
      "4            CUTnRUN                                      [2, 8, 10]\n",
      "..               ...                                             ...\n",
      "228         datasets                                           [180]\n",
      "229             Easy                                           [181]\n",
      "230  variant-calling                                           [182]\n",
      "231          calling                                           [183]\n",
      "232            Mouse                                           [185]\n",
      "\n",
      "[233 rows x 2 columns]\n"
     ]
    }
   ],
   "source": [
    "# def mapear_temas_para_workflows_df(df):\n",
    "#     # Inicializa um dicionário para armazenar os temas e os números de linhas onde eles ocorrem\n",
    "#     temas_workflows = {}\n",
    "\n",
    "#     # Loop sobre as linhas do DataFrame\n",
    "#     for idx, lista_temas in enumerate(df['Tags']):\n",
    "#         # Loop sobre cada tema na lista de temas da linha\n",
    "#         for tema in lista_temas:\n",
    "#             # Se o tema já existe no dicionário, adiciona o número da linha\n",
    "#             if tema in temas_workflows:\n",
    "#                 temas_workflows[tema].append(idx)\n",
    "#             # Se não, cria uma nova entrada no dicionário\n",
    "#             else:\n",
    "#                 temas_workflows[tema] = [idx]\n",
    "\n",
    "#     # Cria um DataFrame a partir do dicionário\n",
    "#     df_temas_workflows = pd.DataFrame(list(temas_workflows.items()), columns=['Tag', 'Workflows'])\n",
    "\n",
    "#     return df_temas_workflows\n",
    "\n",
    "# # Exemplo de uso\n",
    "# df_resultante = mapear_temas_para_workflows_df(df_bert)\n",
    "# # df_bert_descricao = df_bert_descricao[df_bert_descricao['Tags'].apply(lambda x: x != [])]\n",
    "\n",
    "# # Exibir o DataFrame resultante\n",
    "# print(df_resultante)\n"
   ]
  },
  {
   "cell_type": "code",
   "execution_count": 10,
   "metadata": {},
   "outputs": [],
   "source": [
    "\n",
    "def verificar_acerto(tags, descricoes_tags):\n",
    "    for tag in tags:\n",
    "        for descricoes in ast.literal_eval(descricoes_tags):\n",
    "            if tag in descricoes:\n",
    "                return 1\n",
    "    return 0\n",
    "\n",
    "#Descrição e json\n",
    "def adicionar_coluna_acertou(df):\n",
    "    df['Acertou_descricao_top3'] = df.apply(lambda row: verificar_acerto(row['Tags'], row['top3_tags_descricao']), axis=1)\n",
    "    df['Acertou_descricao_top4'] = df.apply(lambda row: verificar_acerto(row['Tags'], row['top4_tags_descricao']), axis=1)\n",
    "    df['Acertou_descricao_top5'] = df.apply(lambda row: verificar_acerto(row['Tags'], row['top5_tags_descricao']), axis=1)\n",
    "    df['Acertou_descricao_top6'] = df.apply(lambda row: verificar_acerto(row['Tags'], row['top6_tags_descricao']), axis=1)\n",
    "    df['Acertou_descricao_top7'] = df.apply(lambda row: verificar_acerto(row['Tags'], row['top7_tags_descricao']), axis=1)\n",
    "    df['Acertou_descricao_top8'] = df.apply(lambda row: verificar_acerto(row['Tags'], row['top8_tags_descricao']), axis=1)\n",
    "    df['Acertou_descricao_top9'] = df.apply(lambda row: verificar_acerto(row['Tags'], row['top9_tags_descricao']), axis=1)\n",
    "    df['Acertou_descricao_top10'] = df.apply(lambda row: verificar_acerto(row['Tags'], row['top10_tags_descricao']), axis=1)\n",
    "\n",
    "\n",
    "    df['Acertou_json_top3'] = df.apply(lambda row: verificar_acerto(row['Tags'], row['top3_tags_json']), axis=1)\n",
    "    df['Acertou_json_top4'] = df.apply(lambda row: verificar_acerto(row['Tags'], row['top4_tags_json']), axis=1)\n",
    "    df['Acertou_json_top5'] = df.apply(lambda row: verificar_acerto(row['Tags'], row['top5_tags_json']), axis=1)\n",
    "    df['Acertou_json_top6'] = df.apply(lambda row: verificar_acerto(row['Tags'], row['top6_tags_json']), axis=1)\n",
    "    df['Acertou_json_top7'] = df.apply(lambda row: verificar_acerto(row['Tags'], row['top7_tags_json']), axis=1)\n",
    "    df['Acertou_json_top8'] = df.apply(lambda row: verificar_acerto(row['Tags'], row['top8_tags_json']), axis=1)\n",
    "    df['Acertou_json_top9'] = df.apply(lambda row: verificar_acerto(row['Tags'], row['top9_tags_json']), axis=1)\n",
    "    df['Acertou_json_top10']= df.apply(lambda row: verificar_acerto(row['Tags'], row['top10_tags_json']), axis=1)\n",
    "    return df\n",
    "\n",
    "\n",
    "\n",
    "df_bert = adicionar_coluna_acertou(df_bert)\n",
    "df_scibert = adicionar_coluna_acertou(df_scibert)\n",
    "\n",
    "#Topicos\n",
    "\n",
    "def verificar_acerto(tags, descricoes_tags):\n",
    "    for tag in tags:\n",
    "        for descricoes in descricoes_tags:\n",
    "            if tag in descricoes:\n",
    "                return 1\n",
    "    return 0\n",
    "\n",
    "def adicionar_coluna_acertou_topicos(df):\n",
    "    df['Acertou_descricao_top3'] = df.apply(lambda row: verificar_acerto(row['Tags'], row['top3_tags_descricao']), axis=1)\n",
    "    df['Acertou_descricao_top4'] = df.apply(lambda row: verificar_acerto(row['Tags'], row['top4_tags_descricao']), axis=1)\n",
    "    df['Acertou_descricao_top5'] = df.apply(lambda row: verificar_acerto(row['Tags'], row['top5_tags_descricao']), axis=1)\n",
    "    df['Acertou_descricao_top6'] = df.apply(lambda row: verificar_acerto(row['Tags'], row['top6_tags_descricao']), axis=1)\n",
    "    df['Acertou_descricao_top7'] = df.apply(lambda row: verificar_acerto(row['Tags'], row['top7_tags_descricao']), axis=1)\n",
    "    df['Acertou_descricao_top8'] = df.apply(lambda row: verificar_acerto(row['Tags'], row['top8_tags_descricao']), axis=1)\n",
    "    df['Acertou_descricao_top9'] = df.apply(lambda row: verificar_acerto(row['Tags'], row['top9_tags_descricao']), axis=1)\n",
    "    df['Acertou_descricao_top10'] = df.apply(lambda row: verificar_acerto(row['Tags'], row['top10_tags_descricao']), axis=1)\n",
    "\n",
    "    return df\n",
    "\n",
    "df_bert_topicos = adicionar_coluna_acertou_topicos(df_bert_topicos)\n",
    "df_scibert_topicos = adicionar_coluna_acertou_topicos(df_scibert_topicos)"
   ]
  },
  {
   "cell_type": "code",
   "execution_count": 26,
   "metadata": {},
   "outputs": [
    {
     "name": "stdout",
     "output_type": "stream",
     "text": [
      "3 119\n",
      "4 121\n",
      "5 124\n",
      "6 122\n",
      "7 124\n",
      "8 122\n",
      "9 126\n",
      "10 125\n"
     ]
    }
   ],
   "source": [
    "def acertou(acc1, acc2, acc3, acc4, acc5, acc6):\n",
    "    count = 0\n",
    "    for a, b, c, d, e, f in zip(acc1, acc2, acc3, acc4, acc5, acc6):\n",
    "        if a == 1 or b == 1 or c == 1 or d == 1 or e ==1 or f==1:\n",
    "            count += 1\n",
    "    return count\n",
    "\n",
    "# Exemplo de uso\n",
    "\n",
    "for i in range(3,11):\n",
    "    resultado = acertou(df_bert_topicos[f\"Acertou_descricao_top{i}\"],\n",
    "                        df_scibert_topicos[f\"Acertou_descricao_top{i}\"],\n",
    "                        df_bert[f\"Acertou_json_top{i}\"], \n",
    "                        df_bert[f\"Acertou_descricao_top{i}\"],\n",
    "                        df_scibert[f\"Acertou_json_top{i}\"], \n",
    "                        df_scibert[f\"Acertou_descricao_top{i}\"])\n",
    "    print(i,resultado)\n",
    "\n",
    "# for i in range(3,11):\n",
    "#     resultado = acertou(df_scibert_topicos[f\"Acertou_descricao_top{i}\"],\n",
    "#                         df_scibert[f\"Acertou_json_top{i}\"],\n",
    "#                         df_scibert[f\"Acertou_json_top{i}\"], \n",
    "#                         df_scibert[f\"Acertou_json_top{i}\"],\n",
    "#                         df_scibert[f\"Acertou_json_top{i}\"], \n",
    "#                         df_scibert[f\"Acertou_descricao_top{i}\"])\n",
    "#     print(i,resultado)\n"
   ]
  },
  {
   "cell_type": "code",
   "execution_count": 13,
   "metadata": {},
   "outputs": [
    {
     "data": {
      "image/png": "[encoded data removed]",
      "text/plain": [
       "<Figure size 1000x500 with 1 Axes>"
      ]
     },
     "metadata": {},
     "output_type": "display_data"
    },
    {
     "data": {
      "image/png": "[encoded data removed]",
      "text/plain": [
       "<Figure size 1000x500 with 1 Axes>"
      ]
     },
     "metadata": {},
     "output_type": "display_data"
    }
   ],
   "source": [
    "# Contar acertos para descrição e JSON\n",
    "acertos_descricao = {f'top{i}': df_bert[f'Acertou_descricao_top{i}'].sum() for i in range(3, 11)}\n",
    "acertos_json = {f'top{i}': df_bert[f'Acertou_json_top{i}'].sum() for i in range(3, 11)}\n",
    "\n",
    "plt.figure(figsize=(10, 5))\n",
    "bars = plt.bar(acertos_descricao.keys(), acertos_descricao.values(), color='blue')\n",
    "plt.xlabel('Top X Descrição')\n",
    "plt.ylabel('Número de Acertos')\n",
    "plt.title('Número de Acertos para Top X Descrição')\n",
    "\n",
    "# Adicionar os números em cima das barras\n",
    "for bar in bars:\n",
    "    height = bar.get_height()\n",
    "    plt.text(bar.get_x() + bar.get_width() / 2.0, height, f'{height}', ha='center', va='bottom')\n",
    "\n",
    "plt.show()\n",
    "\n",
    "plt.figure(figsize=(10, 5))\n",
    "bars = plt.bar(acertos_json.keys(), acertos_json.values(), color='green')\n",
    "plt.xlabel('Top X JSON')\n",
    "plt.ylabel('Número de Acertos')\n",
    "plt.title('Número de Acertos para Top X JSON')\n",
    "\n",
    "for bar in bars:\n",
    "    height = bar.get_height()\n",
    "    plt.text(bar.get_x() + bar.get_width() / 2.0, height, f'{height}', ha='center', va='bottom')\n",
    "\n",
    "plt.show()\n"
   ]
  }
 ],
 "metadata": {
  "kernelspec": {
   "display_name": "venv_linux",
   "language": "python",
   "name": "python3"
  },
  "language_info": {
   "codemirror_mode": {
    "name": "ipython",
    "version": 3
   },
   "file_extension": ".py",
   "mimetype": "text/x-python",
   "name": "python",
   "nbconvert_exporter": "python",
   "pygments_lexer": "ipython3",
   "version": "3.8.10"
  }
 },
 "nbformat": 4,
 "nbformat_minor": 2
}
