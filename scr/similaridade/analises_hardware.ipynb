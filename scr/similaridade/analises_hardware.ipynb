{
 "cells": [
  {
   "cell_type": "code",
   "execution_count": null,
   "metadata": {},
   "outputs": [],
   "source": [
    "import os\n",
    "import re\n",
    "import pandas as pd\n",
    "import matplotlib.pyplot as plt\n",
    "import seaborn as sns"
   ]
  },
  {
   "cell_type": "code",
   "execution_count": null,
   "metadata": {},
   "outputs": [],
   "source": [
    "dataframes = []\n",
    "directory = 'hardware_info_bert'\n",
    "modelo = \"bert\"\n",
    "metodo = \"json\"\n",
    "pattern = re.compile(f'^top(\\d+)_{metodo}_round.*\\.csv$')\n",
    "\n",
    "\n",
    "for filename in os.listdir(directory):\n",
    "    match = pattern.match(filename)\n",
    "    if match:\n",
    "        # print(filename)\n",
    "        top_number = match.group(1)  \n",
    "        file_path = os.path.join(directory, filename)\n",
    "\n",
    "        df = pd.read_csv(file_path)\n",
    "\n",
    "        df['Top'] = f'top{top_number}'\n",
    "        dataframes.append(df)\n",
    "\n",
    "combined_df = pd.concat(dataframes, ignore_index=True)"
   ]
  },
  {
   "cell_type": "code",
   "execution_count": null,
   "metadata": {},
   "outputs": [],
   "source": [
    "columns_of_interest = ['CPU', 'Memory', 'GPU', 'GPU_Memory']\n",
    "\n",
    "for column in columns_of_interest:\n",
    "    # Criar um boxplot para cada coluna de interesse\n",
    "    plt.figure(figsize=(12, 5))\n",
    "    sns.boxplot(x='Top', y=column, data=combined_df, order=[\"top3\",\"top4\",\"top5\",\"top6\",\"top7\",\"top8\",\"top9\",\"top10\"])\n",
    "    if(column=='CPU' or column==\"GPU\"):\n",
    "        plt.title(f'Uso de {column} em % para execução do {modelo} com {metodo}')\n",
    "    else:\n",
    "        plt.title(f'Uso de {column} em MB para execução do {modelo} com {metodo}')\n",
    "\n",
    "    plt.xlabel('Top Number')\n",
    "    plt.ylabel(column)\n",
    "    plt.xticks(rotation=45)\n",
    "    plt.show()"
   ]
  },
  {
   "cell_type": "code",
   "execution_count": null,
   "metadata": {},
   "outputs": [],
   "source": [
    "pattern = re.compile(r'top\\d+')\n",
    "\n",
    "diferencas_por_topx = {}\n",
    "\n",
    "for filename in os.listdir(directory):\n",
    "    if metodo in filename:\n",
    "        match = pattern.search(filename)\n",
    "        if match:\n",
    "            top_number = match.group(0)\n",
    "\n",
    "            filepath = os.path.join(directory, filename)\n",
    "            df = pd.read_csv(filepath)\n",
    "            df['Timestamp'] = pd.to_datetime(df['Timestamp'])\n",
    "            time_difference = (df['Timestamp'].iloc[-1] - df['Timestamp'].iloc[0]).total_seconds()\n",
    "\n",
    "            if top_number in diferencas_por_topx:\n",
    "                diferencas_por_topx[top_number].append(time_difference)\n",
    "            else:\n",
    "                diferencas_por_topx[top_number] = [time_difference]\n",
    "\n",
    "\n",
    "media_por_topx = {topx: sum(diferencas) / len(diferencas) for topx, diferencas in diferencas_por_topx.items()}\n",
    "\n",
    "\n",
    "order = [\"top3\", \"top4\", \"top5\", \"top6\", \"top7\", \"top8\", \"top9\", \"top10\"]\n",
    "media_por_topx_sorted = {k: media_por_topx[k] for k in order}\n",
    "\n",
    "topx = list(media_por_topx_sorted.keys())\n",
    "media_tempo = list(media_por_topx_sorted.values())\n",
    "\n",
    "# Criar o gráfico de barras\n",
    "plt.figure(figsize=(10, 6))\n",
    "plt.bar(topx, media_tempo, color='skyblue')\n",
    "\n",
    "plt.xlabel('TopX')\n",
    "plt.ylabel('Média de Tempo (segundos)')\n",
    "plt.title(f'Média de Tempo por TopX com {modelo} em {metodo}')\n",
    "\n",
    "# Exibir o gráfico\n",
    "plt.xticks(rotation=45)\n",
    "plt.tight_layout()\n",
    "plt.show()\n"
   ]
  }
 ],
 "metadata": {
  "kernelspec": {
   "display_name": "venv_linux",
   "language": "python",
   "name": "python3"
  },
  "language_info": {
   "codemirror_mode": {
    "name": "ipython",
    "version": 3
   },
   "file_extension": ".py",
   "mimetype": "text/x-python",
   "name": "python",
   "nbconvert_exporter": "python",
   "pygments_lexer": "ipython3",
   "version": "3.8.10"
  }
 },
 "nbformat": 4,
 "nbformat_minor": 2
}
