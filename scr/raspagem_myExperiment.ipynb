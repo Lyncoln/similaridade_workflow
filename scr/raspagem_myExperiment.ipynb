{
 "cells": [
  {
   "cell_type": "code",
   "execution_count": null,
   "id": "a7ba04f8-60ac-4634-b135-0f2e655ed5b2",
   "metadata": {},
   "outputs": [],
   "source": [
    "from selenium import webdriver\n",
    "from selenium.webdriver.chrome.service import Service as ChromeService\n",
    "from webdriver_manager.chrome import ChromeDriverManager\n",
    "from selenium.webdriver.common.by import By\n",
    "from selenium.common.exceptions import NoSuchElementException\n",
    "import os\n",
    "import time\n",
    "import re"
   ]
  },
  {
   "cell_type": "code",
   "execution_count": null,
   "id": "9ba95857-9831-4e3c-a4fd-b33997634398",
   "metadata": {},
   "outputs": [],
   "source": [
    "os.chdir('..')\n",
    "if not os.path.exists(\"download\"):\n",
    "    os.makedirs(\"download\")\n",
    "os.chdir('download')"
   ]
  },
  {
   "cell_type": "code",
   "execution_count": null,
   "id": "173188f6-03c4-4933-81ee-93b3c89c96df",
   "metadata": {},
   "outputs": [],
   "source": [
    "chrome_options = webdriver.ChromeOptions()\n",
    "prefs = {'download.default_directory' : os.getcwd(),\n",
    "        'download.prompt_for_download': False,\n",
    "        'download.extensions_to_open': 'xml',\n",
    "        'safebrowsing.enabled': True}\n",
    "chrome_options.add_experimental_option('prefs', prefs)\n",
    "chrome_options.add_argument('--start-maximized')\n",
    "driver = webdriver.Chrome(service = ChromeService(ChromeDriverManager().install()), options=chrome_options)"
   ]
  },
  {
   "cell_type": "code",
   "execution_count": null,
   "id": "17391fe0-f8c9-450c-8560-261aca84a8f9",
   "metadata": {},
   "outputs": [],
   "source": [
    "driver.get('https://www.myexperiment.org/workflows?filter=TYPE_ID%28%221%22%29&num=100')"
   ]
  },
  {
   "cell_type": "code",
   "execution_count": null,
   "id": "6560aa81-06a9-4c23-b84d-5f5902848f6f",
   "metadata": {},
   "outputs": [],
   "source": [
    "def erase_files():\n",
    "    files = os.listdir()\n",
    "    if(len(files) > 0):\n",
    "        for file in files:\n",
    "            try:\n",
    "                os.remove(file)\n",
    "                return 1\n",
    "            except:\n",
    "                time.sleep(0.5)\n",
    "                erase_files()\n",
    "                return 0"
   ]
  },
  {
   "cell_type": "code",
   "execution_count": null,
   "id": "b922b8bf-c39f-42b0-bd5b-dec4953e5517",
   "metadata": {},
   "outputs": [],
   "source": [
    "def download_file(element, seconds, workflow_type):\n",
    "    erase_files()\n",
    "    try:\n",
    "        element.click()\n",
    "        time.sleep(seconds)\n",
    "        workflow_number = re.findall(r'\\d+',element.get_attribute(\"href\"))[0]\n",
    "        file = os.listdir()[0]\n",
    "        if file.endswith('download'):\n",
    "            print(f'{file} -> {workflow_number} DOWNLOAD ERROR')\n",
    "            download_file(element, seconds)\n",
    "            return 0\n",
    "        else:\n",
    "            file_type = re.findall(r'(?<=\\.)\\s*(\\w+)', file)[-1]\n",
    "            os.rename(file,f\"..//workflows_myExperiment//workflows_{workflow_type}//{workflow_number}.{file_type}\") #Taverna 1\n",
    "            print(f'{file} -> {workflow_number} SAVED')\n",
    "            return 1\n",
    "    except FileExistsError:\n",
    "            print(f'{file} -> {workflow_number} DOUBLED')\n",
    "            return 1"
   ]
  },
  {
   "cell_type": "code",
   "execution_count": null,
   "id": "2a3ea5d1-7369-45fc-845b-7571e6a53ab0",
   "metadata": {},
   "outputs": [],
   "source": [
    "while(True):\n",
    "    try:\n",
    "        downloads = driver.find_elements(By.XPATH,\"//a[contains(@href,'download')]\")\n",
    "        for download in downloads:\n",
    "            download_file(download, 5, \"taverna2\")\n",
    "        next = driver.find_element(By.XPATH,\"//a[contains(@class,'next_page')]\")\n",
    "        next.click()\n",
    "        time.sleep(5)\n",
    "    except NoSuchElementException:\n",
    "        print(\"Finished\")\n",
    "        break"
   ]
  }
 ],
 "metadata": {
  "kernelspec": {
   "display_name": "Python 3 (ipykernel)",
   "language": "python",
   "name": "python3"
  },
  "language_info": {
   "codemirror_mode": {
    "name": "ipython",
    "version": 3
   },
   "file_extension": ".py",
   "mimetype": "text/x-python",
   "name": "python",
   "nbconvert_exporter": "python",
   "pygments_lexer": "ipython3",
   "version": "3.8.0"
  }
 },
 "nbformat": 4,
 "nbformat_minor": 5
}
